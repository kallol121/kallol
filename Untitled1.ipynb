{
  "nbformat": 4,
  "nbformat_minor": 0,
  "metadata": {
    "colab": {
      "provenance": []
    },
    "kernelspec": {
      "name": "python3",
      "display_name": "Python 3"
    },
    "language_info": {
      "name": "python"
    }
  },
  "cells": [
    {
      "cell_type": "code",
      "execution_count": 2,
      "metadata": {
        "id": "ynFd20lTbqIF",
        "colab": {
          "base_uri": "https://localhost:8080/"
        },
        "outputId": "387939d2-31ef-45cd-81cf-5504cacc0429"
      },
      "outputs": [
        {
          "output_type": "stream",
          "name": "stdout",
          "text": [
            "R-squared Score: 0.6257\n",
            "Mean Squared Error: 4904399775.95\n"
          ]
        }
      ],
      "source": [
        "import pandas as pd\n",
        "from sklearn.model_selection import train_test_split\n",
        "from sklearn.linear_model import LinearRegression\n",
        "from sklearn.metrics import mean_squared_error, r2_score\n",
        "from sklearn.preprocessing import OneHotEncoder\n",
        "from sklearn.impute import SimpleImputer\n",
        "\n",
        "df = pd.read_csv(\"housing.csv\")\n",
        "\n",
        "# Step 2: Data Cleaning\n",
        "# Impute missing values in 'total_bedrooms' using the mean\n",
        "imputer = SimpleImputer(strategy=\"mean\")\n",
        "df['total_bedrooms'] = imputer.fit_transform(df[['total_bedrooms']])\n",
        "\n",
        "# One-hot encode 'ocean_proximity' (categorical variable)\n",
        "df = pd.get_dummies(df, columns=['ocean_proximity'], drop_first=True)\n",
        "\n",
        "# Step 3: Define Features (X) and Target (y)\n",
        "X = df.drop(\"median_house_value\", axis=1)\n",
        "y = df[\"median_house_value\"]\n",
        "\n",
        "# Step 4: Split into training and testing sets (80-20)\n",
        "X_train, X_test, y_train, y_test = train_test_split(X, y, test_size=0.2, random_state=42)\n",
        "\n",
        "# Step 5: Train Linear Regression model\n",
        "model = LinearRegression()\n",
        "model.fit(X_train, y_train)\n",
        "\n",
        "# Step 6: Predict and Evaluate\n",
        "y_pred = model.predict(X_test)\n",
        "\n",
        "r2 = r2_score(y_test, y_pred)\n",
        "mse = mean_squared_error(y_test, y_pred)\n",
        "\n",
        "print(f\"R-squared Score: {r2:.4f}\")\n",
        "print(f\"Mean Squared Error: {mse:.2f}\")\n"
      ]
    }
  ]
}